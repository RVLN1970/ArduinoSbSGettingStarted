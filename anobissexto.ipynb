{
  "nbformat": 4,
  "nbformat_minor": 0,
  "metadata": {
    "colab": {
      "provenance": [],
      "authorship_tag": "ABX9TyOT6BJfgQkek/bmfHk4BzXA",
      "include_colab_link": true
    },
    "kernelspec": {
      "name": "python3",
      "display_name": "Python 3"
    },
    "language_info": {
      "name": "python"
    }
  },
  "cells": [
    {
      "cell_type": "markdown",
      "metadata": {
        "id": "view-in-github",
        "colab_type": "text"
      },
      "source": [
        "<a href=\"https://colab.research.google.com/github/RVLN1970/ArduinoSbSGettingStarted/blob/master/anobissexto.ipynb\" target=\"_parent\"><img src=\"https://colab.research.google.com/assets/colab-badge.svg\" alt=\"Open In Colab\"/></a>"
      ]
    },
    {
      "cell_type": "code",
      "execution_count": 7,
      "metadata": {
        "colab": {
          "base_uri": "https://localhost:8080/"
        },
        "id": "fvQ1YqYLx7_P",
        "outputId": "cc758698-421e-477c-979b-40efbb013bf7"
      },
      "outputs": [
        {
          "output_type": "stream",
          "name": "stdout",
          "text": [
            "Digite o ano: 2024\n",
            "Esse é um ano bissexto.\n"
          ]
        }
      ],
      "source": [
        "ano = int(input ('Digite o ano: '))\n",
        "if ano % 100 != 0 and (ano % 4 == 0 or ano % 400 == 0):\n",
        "  print ('Esse é um ano bissexto.')\n",
        "else:\n",
        "  print ('Esse não é um ano bissexto.')\n",
        ""
      ]
    }
  ]
}