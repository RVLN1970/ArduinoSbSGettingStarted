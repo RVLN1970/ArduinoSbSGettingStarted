{
  "nbformat": 4,
  "nbformat_minor": 0,
  "metadata": {
    "colab": {
      "provenance": [],
      "authorship_tag": "ABX9TyMgQvzeCkJ3R7odzeGafSww",
      "include_colab_link": true
    },
    "kernelspec": {
      "name": "python3",
      "display_name": "Python 3"
    },
    "language_info": {
      "name": "python"
    }
  },
  "cells": [
    {
      "cell_type": "markdown",
      "metadata": {
        "id": "view-in-github",
        "colab_type": "text"
      },
      "source": [
        "<a href=\"https://colab.research.google.com/github/RVLN1970/ArduinoSbSGettingStarted/blob/master/EstacionamentoSaida.ipynb\" target=\"_parent\"><img src=\"https://colab.research.google.com/assets/colab-badge.svg\" alt=\"Open In Colab\"/></a>"
      ]
    },
    {
      "cell_type": "code",
      "execution_count": null,
      "metadata": {
        "colab": {
          "base_uri": "https://localhost:8080/"
        },
        "id": "bn-OsyQNMdxi",
        "outputId": "6dc746e1-9801-47f3-d079-e09b388ae23b"
      },
      "outputs": [
        {
          "output_type": "stream",
          "name": "stdout",
          "text": [
            "Digite sua idade?65\n",
            "Qual seu tempo de permanencia na vaga ( em minutos)? :698\n",
            "Você é PCD? (Digite 1 para sim ou 0 para não)1\n",
            "Você possui direito a gratuidade do serviço, volte sempre! \n"
          ]
        }
      ],
      "source": [
        "\n",
        "\n",
        "\n",
        "\n",
        "print('Bem vindo!')\n",
        "\n",
        "pcd = int(input('Você é PCD? (Digite 1 para sim ou 0 para não) '))\n",
        "if pcd == 1:\n",
        "\n",
        "    print('Você deve estacionar em uma vaga preferencial PCD, número 1 a 19.')\n",
        "    print('Caso estas vagas estejam ocupadas, dirija-se a uma vaga preferencial idosos,vagas 20 a 39. ')\n",
        "    print('Se mesmo estas estiverem ocupadas, será necessário ocupar uma das vagas normais, vagas 40 a 200.\\nGratos pela compreensão!')\n",
        "else:\n",
        "    idade = int(input('Digite sua idade? '))\n",
        "    if idade >=60:\n",
        "      print('Você deve estacionar em uma vaga preferencial Idosos, número 20 a 39.')\n",
        "      print('Se mesmo estas estiverem ocupadas, será necessário ocupar uma das vagas normais, vagas 40 a 200.\\nGratos pela compreensão!')\n",
        "    elif idade < 60:\n",
        "      print('Você pode estacionar numa vaga livre, não preferencial. Vagas 40 a 160.')\n",
        "print('Dirija-se ao Caixa ao final da estadia.')\n",
        "\n",
        "idade = int(input('Digite sua idade? '))\n",
        "tempo = int(input('Qual seu tempo de permanencia na vaga ( em minutos)? '))\n",
        "pcd = int(input('Você é PCD? (Digite 1 para sim ou 0 para não) '))\n",
        "preco = 5*(tempo/60)\n",
        "\n",
        "if pcd == 1:\n",
        "\n",
        "  print('Você possui direito a gratuidade do serviço, volte sempre! ')\n",
        "\n",
        "elif idade >=60:\n",
        "  preco = preco*0.5\n",
        "  print(f'Você recebeu um desconto de 50% na taxa do estacionamento! \\nSua Taxa é de R$ {preco:.2f} \\nObrigado e Volte sempre!')\n",
        "else:\n",
        "  preco = preco\n",
        "  print(f'Olá, sua taxa do estacionamento foi de R$ {preco:.2f} \\nObrigado e Volte sempre!')\n",
        "\n",
        "\n"
      ]
    },
    {
      "cell_type": "code",
      "source": [],
      "metadata": {
        "id": "rLOtQy3BPPrW"
      },
      "execution_count": null,
      "outputs": []
    },
    {
      "cell_type": "markdown",
      "source": [],
      "metadata": {
        "id": "hu0f9eBtEnHo"
      }
    },
    {
      "cell_type": "markdown",
      "source": [],
      "metadata": {
        "id": "Beousu8XEnvq"
      }
    },
    {
      "cell_type": "code",
      "source": [],
      "metadata": {
        "id": "K1AxPJSlousl"
      },
      "execution_count": null,
      "outputs": []
    }
  ]
}